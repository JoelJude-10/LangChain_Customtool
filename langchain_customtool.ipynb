{
 "cells": [
  {
   "cell_type": "code",
   "execution_count": 1,
   "metadata": {},
   "outputs": [],
   "source": [
    "from langchain.memory.buffer_window import ConversationBufferWindowMemory\n",
    "\n",
    "\n"
   ]
  },
  {
   "cell_type": "code",
   "execution_count": 2,
   "metadata": {},
   "outputs": [],
   "source": [
    "from langchain.agents import AgentExecutor\n",
    "from langchain.agents import initialize_agent\n",
    "from langchain.agents import Tool\n",
    "from langchain_cohere.react_multi_hop.agent import create_cohere_react_agent\n",
    "from langchain_core.prompts import ChatPromptTemplate\n",
    "from langchain_experimental.agents import create_csv_agent\n",
    "from langchain_groq import ChatGroq\n",
    "\n",
    "from langchain_community.tools.tavily_search import TavilySearchResults"
   ]
  },
  {
   "cell_type": "code",
   "execution_count": 3,
   "metadata": {},
   "outputs": [],
   "source": [
    "import os\n",
    "os.environ['COHERE_API_KEY'] = \"AQWILHeT6TLrmqR94NrY4xDqAZSwUp1MmjsSPqV8\""
   ]
  },
  {
   "cell_type": "code",
   "execution_count": 4,
   "metadata": {},
   "outputs": [],
   "source": [
    "\n",
    "chat = ChatGroq(model=\"llama3-70b-8192\",groq_api_key=\"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\", temperature=0.3)"
   ]
  },
  {
   "cell_type": "code",
   "execution_count": 5,
   "metadata": {},
   "outputs": [],
   "source": [
    "def file_processor(input=\"\"):\n",
    "    chat = ChatGroq(model=\"llama3-70b-8192\",groq_api_key=\"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\",temperature=0.3)\n",
    "\n",
    "    csv_file_path = 'healthcare_source 6.csv'\n",
    "\n",
    "    agent=create_csv_agent(chat,csv_file_path,allow_dangerous_code=True)\n",
    "    r=agent.run(input)\n",
    "    return r\n",
    "tool1=Tool(\n",
    "    name=\"processing_tool\",\n",
    "    func=file_processor,\n",
    "    description=\"think yourself as a data analyst. answer to the user request using LLM and create the csv file as per the user request\"\n",
    ")\n",
    " "
   ]
  },
  {
   "cell_type": "code",
   "execution_count": 6,
   "metadata": {},
   "outputs": [],
   "source": [
    "def tavi(input=\"\"):\n",
    "    tav=TavilySearchResults(api_key=\"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\")\n",
    "    query=input\n",
    "    response=tav.search(query)\n",
    "    if response[\"results\"][0]:\n",
    "        result=response[\"results\"][0]\n",
    "        return (result.get(\"content\"))\n",
    "sear_t=Tool(\n",
    "    name=\"search_engine\",\n",
    "    func=tavi,\n",
    "    description=\"you are search tool .you need to answer the user query\"\n",
    ")"
   ]
  },
  {
   "cell_type": "code",
   "execution_count": 7,
   "metadata": {},
   "outputs": [],
   "source": [
    "tools=[tool1,sear_t]"
   ]
  },
  {
   "cell_type": "code",
   "execution_count": 8,
   "metadata": {},
   "outputs": [],
   "source": [
    "memory=ConversationBufferWindowMemory(memory_key='chat_history',k=3,return_message=True)"
   ]
  },
  {
   "cell_type": "code",
   "execution_count": 9,
   "metadata": {},
   "outputs": [
    {
     "name": "stderr",
     "output_type": "stream",
     "text": [
      "d:\\anaconda\\envs\\langstock\\lib\\site-packages\\langchain_core\\_api\\deprecation.py:139: LangChainDeprecationWarning: The function `initialize_agent` was deprecated in LangChain 0.1.0 and will be removed in 0.3.0. Use Use new agent constructor methods like create_react_agent, create_json_agent, create_structured_chat_agent, etc. instead.\n",
      "  warn_deprecated(\n"
     ]
    }
   ],
   "source": [
    "  # Call the function to get the actual tools\n",
    "\n",
    "# Now pass the tools to initialize_agent\n",
    "agent1 = initialize_agent(\n",
    "    agent=\"conversational-react-description\",\n",
    "    tools=tools,\n",
    "    llm=chat,\n",
    "    max_iterations=10000,\n",
    "    verbose=True,\n",
    "    early_stopping_method=\"generate\",\n",
    "    memory=memory,\n",
    "    handle_parsing_errors=True\n",
    ")"
   ]
  },
  {
   "cell_type": "code",
   "execution_count": 10,
   "metadata": {},
   "outputs": [
    {
     "name": "stderr",
     "output_type": "stream",
     "text": [
      "d:\\anaconda\\envs\\langstock\\lib\\site-packages\\langchain_core\\_api\\deprecation.py:139: LangChainDeprecationWarning: The method `Chain.__call__` was deprecated in langchain 0.1.0 and will be removed in 0.3.0. Use invoke instead.\n",
      "  warn_deprecated(\n"
     ]
    },
    {
     "name": "stdout",
     "output_type": "stream",
     "text": [
      "\n",
      "\n",
      "\u001b[1m> Entering new AgentExecutor chain...\u001b[0m\n",
      "\u001b[32;1m\u001b[1;3mThought: Do I need to use a tool? Yes\n",
      "Action: processing_tool\n",
      "Action Input: Generate a new dataset with the first 40 rows of the given dataset, change the order of the columns randomly, and save it as l1.csv\u001b[0m"
     ]
    },
    {
     "name": "stderr",
     "output_type": "stream",
     "text": [
      "d:\\anaconda\\envs\\langstock\\lib\\site-packages\\langchain_core\\_api\\deprecation.py:139: LangChainDeprecationWarning: The method `Chain.run` was deprecated in langchain 0.1.0 and will be removed in 0.3.0. Use invoke instead.\n",
      "  warn_deprecated(\n"
     ]
    },
    {
     "name": "stdout",
     "output_type": "stream",
     "text": [
      "\n",
      "Observation: \u001b[36;1m\u001b[1;3mThe new dataset with the first 40 rows of the given dataset, with the columns in a random order, has been saved as l1.csv.\u001b[0m\n",
      "Thought:\u001b[32;1m\u001b[1;3mDo I need to use a tool? No\n",
      "AI: The task has been completed. The new dataset with the first 40 rows of the given dataset, with the columns in a random order, has been saved as l1.csv.\u001b[0m\n",
      "\n",
      "\u001b[1m> Finished chain.\u001b[0m\n"
     ]
    },
    {
     "data": {
      "text/plain": [
       "{'input': 'Generate a new dataset which only has the first 40 rows of the given dataset, change the order of the column in the new dataset randomly and save it as l1.csv',\n",
       " 'chat_history': '',\n",
       " 'output': 'The task has been completed. The new dataset with the first 40 rows of the given dataset, with the columns in a random order, has been saved as l1.csv.'}"
      ]
     },
     "execution_count": 10,
     "metadata": {},
     "output_type": "execute_result"
    }
   ],
   "source": [
    "agent1(\"Generate a new dataset which only has the first 40 rows of the given dataset, change the order of the column in the new dataset randomly and save it as l1.csv\")"
   ]
  },
  {
   "cell_type": "code",
   "execution_count": null,
   "metadata": {},
   "outputs": [],
   "source": []
  }
 ],
 "metadata": {
  "kernelspec": {
   "display_name": "langstock",
   "language": "python",
   "name": "python3"
  },
  "language_info": {
   "codemirror_mode": {
    "name": "ipython",
    "version": 3
   },
   "file_extension": ".py",
   "mimetype": "text/x-python",
   "name": "python",
   "nbconvert_exporter": "python",
   "pygments_lexer": "ipython3",
   "version": "3.10.14"
  }
 },
 "nbformat": 4,
 "nbformat_minor": 2
}
